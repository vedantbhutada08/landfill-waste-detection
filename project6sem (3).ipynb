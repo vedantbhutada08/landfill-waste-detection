{
  "nbformat": 4,
  "nbformat_minor": 0,
  "metadata": {
    "colab": {
      "provenance": [],
      "gpuType": "T4"
    },
    "kernelspec": {
      "name": "python3",
      "display_name": "Python 3"
    },
    "language_info": {
      "name": "python"
    },
    "accelerator": "GPU"
  },
  "cells": [
    {
      "cell_type": "code",
      "source": [
        "from google.colab import drive\n",
        "drive.mount('/content/drive')"
      ],
      "metadata": {
        "id": "btJXyLRb3kLR",
        "colab": {
          "base_uri": "https://localhost:8080/"
        },
        "outputId": "4dfe31c6-b458-43c5-e7df-188552b66ea3"
      },
      "execution_count": 45,
      "outputs": [
        {
          "output_type": "stream",
          "name": "stdout",
          "text": [
            "Mounted at /content/drive\n"
          ]
        }
      ]
    },
    {
      "cell_type": "code",
      "source": [
        "zip_path = '/content/drive/MyDrive/BN.zip'"
      ],
      "metadata": {
        "id": "_DqZufYE61we"
      },
      "execution_count": 46,
      "outputs": []
    },
    {
      "cell_type": "code",
      "source": [
        "import zipfile\n",
        "\n",
        "with zipfile.ZipFile(zip_path, 'r') as zip_ref:\n",
        "    zip_ref.extractall('/content/destination_folder1')"
      ],
      "metadata": {
        "id": "r67PuqFQ7BZd"
      },
      "execution_count": 47,
      "outputs": []
    },
    {
      "cell_type": "code",
      "execution_count": 48,
      "metadata": {
        "id": "Bito_uv8q_D7"
      },
      "outputs": [],
      "source": [
        "import numpy as np\n",
        "import matplotlib.pyplot as plt\n",
        "import pandas as pd\n",
        "import tensorflow as tf\n",
        "from tensorflow import keras\n",
        "from keras import Sequential\n",
        "from keras.layers import Dense,Conv2D,MaxPooling2D,Flatten,Dropout"
      ]
    },
    {
      "cell_type": "code",
      "source": [
        "from keras.preprocessing.image import ImageDataGenerator\n",
        "data_gen=ImageDataGenerator(rescale=1./255,\n",
        "                            shear_range=0.2,\n",
        "                            zoom_range=0.2,\n",
        "                            horizontal_flip=True)"
      ],
      "metadata": {
        "id": "-3j1g3MDrFSp"
      },
      "execution_count": 49,
      "outputs": []
    },
    {
      "cell_type": "code",
      "source": [
        "data_path=\"destination_folder1\"\n",
        "\n",
        "train_gen=data_gen.flow_from_directory(data_path + '/train1',\n",
        "                                             target_size=(224,224),\n",
        "                                             batch_size=64,\n",
        "                                             class_mode='categorical')\n",
        "val_datagen = ImageDataGenerator(rescale = 1./255)\n",
        "val_gen=val_datagen.flow_from_directory(data_path + '/valid1',\n",
        "                                             target_size=(224,224),\n",
        "                                             batch_size=1,\n",
        "                                             class_mode='categorical',\n",
        "                                             shuffle=False)"
      ],
      "metadata": {
        "colab": {
          "base_uri": "https://localhost:8080/"
        },
        "id": "EVQ_gyh4s1Ef",
        "outputId": "c507079f-aa4a-4ab2-a81c-a4b3b25b94ee"
      },
      "execution_count": 50,
      "outputs": [
        {
          "output_type": "stream",
          "name": "stdout",
          "text": [
            "Found 5756 images belonging to 2 classes.\n",
            "Found 1241 images belonging to 2 classes.\n"
          ]
        }
      ]
    },
    {
      "cell_type": "code",
      "source": [
        "from tensorflow.keras.models import Sequential\n",
        "from tensorflow.keras.layers import Dense\n",
        "from tensorflow.keras.regularizers import l2\n",
        "from tensorflow.keras.applications.resnet_v2 import ResNet101V2, preprocess_input\n",
        "\n",
        "model = Sequential([ResNet101V2(include_top=False,\n",
        "                             weights='imagenet',\n",
        "                             pooling='avg'),\n",
        "                    Dense(2, kernel_regularizer=tf.keras.regularizers.l2(0.01),activation='softmax')])\n",
        "model.layers[0].trainable = False"
      ],
      "metadata": {
        "id": "ny5ciZSHtTRK",
        "colab": {
          "base_uri": "https://localhost:8080/"
        },
        "outputId": "738d7975-e550-4f86-9ee1-ae31ddc0d610"
      },
      "execution_count": null,
      "outputs": [
        {
          "output_type": "stream",
          "name": "stdout",
          "text": [
            "Downloading data from https://storage.googleapis.com/tensorflow/keras-applications/resnet/resnet101v2_weights_tf_dim_ordering_tf_kernels_notop.h5\n",
            "171317808/171317808 [==============================] - 1s 0us/step\n"
          ]
        }
      ]
    },
    {
      "cell_type": "code",
      "source": [
        "opt=tf.keras.optimizers.SGD(learning_rate=0.001, momentum=0.9)\n"
      ],
      "metadata": {
        "id": "qI5IA1CstTPG"
      },
      "execution_count": null,
      "outputs": []
    },
    {
      "cell_type": "code",
      "source": [
        "model.compile(optimizer = opt,\n",
        "              loss='squared_hinge',\n",
        "              metrics=['accuracy'])"
      ],
      "metadata": {
        "id": "2tnRaWQxtTMs"
      },
      "execution_count": null,
      "outputs": []
    },
    {
      "cell_type": "code",
      "source": [
        "model.summary()"
      ],
      "metadata": {
        "colab": {
          "base_uri": "https://localhost:8080/"
        },
        "id": "nCZzZ8MdtTKv",
        "outputId": "bec45b42-ab3c-4a36-a039-6c02b33e4a65"
      },
      "execution_count": null,
      "outputs": [
        {
          "output_type": "stream",
          "name": "stdout",
          "text": [
            "Model: \"sequential\"\n",
            "_________________________________________________________________\n",
            " Layer (type)                Output Shape              Param #   \n",
            "=================================================================\n",
            " resnet101v2 (Functional)    (None, 2048)              42626560  \n",
            "                                                                 \n",
            " dense (Dense)               (None, 2)                 4098      \n",
            "                                                                 \n",
            "=================================================================\n",
            "Total params: 42630658 (162.62 MB)\n",
            "Trainable params: 4098 (16.01 KB)\n",
            "Non-trainable params: 42626560 (162.61 MB)\n",
            "_________________________________________________________________\n"
          ]
        }
      ]
    },
    {
      "cell_type": "code",
      "source": [
        "history = model.fit(x=train_gen, validation_data=val_gen, epochs=12)"
      ],
      "metadata": {
        "colab": {
          "base_uri": "https://localhost:8080/"
        },
        "id": "KXDXGUz9tTIJ",
        "outputId": "a51d26b0-3acc-4471-82f7-828574bf2a64"
      },
      "execution_count": null,
      "outputs": [
        {
          "output_type": "stream",
          "name": "stdout",
          "text": [
            "Epoch 1/12\n",
            "90/90 [==============================] - 122s 1s/step - loss: 0.8484 - accuracy: 0.8384 - val_loss: 0.6906 - val_accuracy: 0.9275\n",
            "Epoch 2/12\n",
            "90/90 [==============================] - 106s 1s/step - loss: 0.6699 - accuracy: 0.9401 - val_loss: 0.6688 - val_accuracy: 0.9388\n",
            "Epoch 3/12\n",
            "90/90 [==============================] - 106s 1s/step - loss: 0.6513 - accuracy: 0.9475 - val_loss: 0.6615 - val_accuracy: 0.9396\n",
            "Epoch 4/12\n",
            "90/90 [==============================] - 105s 1s/step - loss: 0.6440 - accuracy: 0.9529 - val_loss: 0.6579 - val_accuracy: 0.9412\n",
            "Epoch 5/12\n",
            "90/90 [==============================] - 106s 1s/step - loss: 0.6364 - accuracy: 0.9550 - val_loss: 0.6551 - val_accuracy: 0.9396\n",
            "Epoch 6/12\n",
            "90/90 [==============================] - 106s 1s/step - loss: 0.6345 - accuracy: 0.9552 - val_loss: 0.6554 - val_accuracy: 0.9404\n",
            "Epoch 7/12\n",
            "90/90 [==============================] - 106s 1s/step - loss: 0.6300 - accuracy: 0.9576 - val_loss: 0.6475 - val_accuracy: 0.9420\n",
            "Epoch 8/12\n",
            "90/90 [==============================] - 104s 1s/step - loss: 0.6244 - accuracy: 0.9587 - val_loss: 0.6453 - val_accuracy: 0.9436\n",
            "Epoch 9/12\n",
            "90/90 [==============================] - 105s 1s/step - loss: 0.6229 - accuracy: 0.9606 - val_loss: 0.6429 - val_accuracy: 0.9452\n",
            "Epoch 10/12\n",
            "90/90 [==============================] - 105s 1s/step - loss: 0.6184 - accuracy: 0.9620 - val_loss: 0.6414 - val_accuracy: 0.9452\n",
            "Epoch 11/12\n",
            "90/90 [==============================] - 105s 1s/step - loss: 0.6190 - accuracy: 0.9595 - val_loss: 0.6394 - val_accuracy: 0.9428\n",
            "Epoch 12/12\n",
            "90/90 [==============================] - 105s 1s/step - loss: 0.6168 - accuracy: 0.9599 - val_loss: 0.6385 - val_accuracy: 0.9452\n"
          ]
        }
      ]
    },
    {
      "cell_type": "code",
      "source": [
        "# plot the losses\n",
        "import matplotlib.pyplot as plt\n",
        "plt.plot(history.history['loss'], label='train loss')\n",
        "plt.plot(history.history['val_loss'], label='val loss')\n",
        "plt.legend()\n",
        "plt.show()\n",
        "#plt.savefig('LossVal_loss')\n"
      ],
      "metadata": {
        "colab": {
          "base_uri": "https://localhost:8080/",
          "height": 430
        },
        "id": "MX_5k15TtTFg",
        "outputId": "91d4b086-30c1-4972-ce0f-07bb0232ba2c"
      },
      "execution_count": null,
      "outputs": [
        {
          "output_type": "display_data",
          "data": {
            "text/plain": [
              "<Figure size 640x480 with 1 Axes>"
            ],
            "image/png": "[encoded data removed]"
          },
          "metadata": {}
        }
      ]
    },
    {
      "cell_type": "code",
      "source": [
        "# plot the accuracy\n",
        "plt.plot(history.history['accuracy'], label='train acc')\n",
        "plt.plot(history.history['val_accuracy'], label='val acc')\n",
        "plt.legend()\n",
        "plt.show()\n",
        "#plt.savefig('AccVal_acc')"
      ],
      "metadata": {
        "colab": {
          "base_uri": "https://localhost:8080/",
          "height": 430
        },
        "id": "AbyKLUOvtTDS",
        "outputId": "b020b0c2-5085-4535-e65f-554dda4ae9fc"
      },
      "execution_count": null,
      "outputs": [
        {
          "output_type": "display_data",
          "data": {
            "text/plain": [
              "<Figure size 640x480 with 1 Axes>"
            ],
            "image/png": "[encoded data removed]"
          },
          "metadata": {}
        }
      ]
    },
    {
      "cell_type": "code",
      "source": [
        "path = '/content/drive/MyDrive/resnet101V2.h5'\n",
        "\n",
        "# Save the model\n",
        "model.save(path)\n",
        "\n",
        "print(\"Model saved at:\",path)\n"
      ],
      "metadata": {
        "colab": {
          "base_uri": "https://localhost:8080/"
        },
        "id": "bkb6Zmd8tTAg",
        "outputId": "46c02cac-47b3-4b19-f95a-ee70bebd79a4"
      },
      "execution_count": null,
      "outputs": [
        {
          "output_type": "stream",
          "name": "stderr",
          "text": [
            "/usr/local/lib/python3.10/dist-packages/keras/src/engine/training.py:3103: UserWarning: You are saving your model as an HDF5 file via `model.save()`. This file format is considered legacy. We recommend using instead the native Keras format, e.g. `model.save('my_model.keras')`.\n",
            "  saving_api.save_model(\n"
          ]
        },
        {
          "output_type": "stream",
          "name": "stdout",
          "text": [
            "Model saved at: /content/drive/MyDrive/resnet101V2.h5\n"
          ]
        }
      ]
    },
    {
      "cell_type": "code",
      "source": [],
      "metadata": {
        "id": "MYBB2OxwcP0h"
      },
      "execution_count": null,
      "outputs": []
    },
    {
      "cell_type": "code",
      "source": [
        "from tensorflow.keras.models import load_model\n",
        "model=load_model(path)\n",
        "model.summary()"
      ],
      "metadata": {
        "colab": {
          "base_uri": "https://localhost:8080/"
        },
        "id": "RAnySocGtS9_",
        "outputId": "a381ecdc-e1a7-4838-b332-4aced9f2f4ce"
      },
      "execution_count": null,
      "outputs": [
        {
          "output_type": "stream",
          "name": "stdout",
          "text": [
            "Model: \"sequential\"\n",
            "_________________________________________________________________\n",
            " Layer (type)                Output Shape              Param #   \n",
            "=================================================================\n",
            " resnet101v2 (Functional)    (None, 2048)              42626560  \n",
            "                                                                 \n",
            " dense (Dense)               (None, 2)                 4098      \n",
            "                                                                 \n",
            "=================================================================\n",
            "Total params: 42630658 (162.62 MB)\n",
            "Trainable params: 4098 (16.01 KB)\n",
            "Non-trainable params: 42626560 (162.61 MB)\n",
            "_________________________________________________________________\n"
          ]
        }
      ]
    },
    {
      "cell_type": "code",
      "source": [
        "data_path =\"destination_folder1\"\n",
        "\n",
        "test_datagen= ImageDataGenerator(rescale=1./255)\n",
        "\n",
        "test_gen = test_datagen.flow_from_directory(data_path + '/test1',\n",
        "                                              target_size=(224,224),\n",
        "                                              batch_size=1,\n",
        "                                              class_mode='categorical',\n",
        "                                              shuffle=False)\n"
      ],
      "metadata": {
        "colab": {
          "base_uri": "https://localhost:8080/"
        },
        "id": "QnTlrt8ct9dY",
        "outputId": "75ba8170-29e3-45a3-844a-a818a3e15a45"
      },
      "execution_count": null,
      "outputs": [
        {
          "output_type": "stream",
          "name": "stdout",
          "text": [
            "Found 1246 images belonging to 2 classes.\n"
          ]
        }
      ]
    },
    {
      "cell_type": "code",
      "source": [
        "y_pred = model.predict(test_gen)\n",
        "y_pred = np.argmax(y_pred, axis=1)"
      ],
      "metadata": {
        "colab": {
          "base_uri": "https://localhost:8080/"
        },
        "id": "v1FNT__Jt9aQ",
        "outputId": "d7a7ea12-888a-414e-f890-4fa9628359ec"
      },
      "execution_count": null,
      "outputs": [
        {
          "output_type": "stream",
          "name": "stdout",
          "text": [
            "1246/1246 [==============================] - 20s 16ms/step\n"
          ]
        }
      ]
    },
    {
      "cell_type": "code",
      "source": [
        "from sklearn.metrics import classification_report\n",
        "print(classification_report(test_gen.classes, y_pred))"
      ],
      "metadata": {
        "colab": {
          "base_uri": "https://localhost:8080/"
        },
        "id": "Ir6Z5nN9t9Xd",
        "outputId": "824e2665-d77a-45df-f66f-30b929308fad"
      },
      "execution_count": null,
      "outputs": [
        {
          "output_type": "stream",
          "name": "stdout",
          "text": [
            "              precision    recall  f1-score   support\n",
            "\n",
            "           0       0.96      0.94      0.95       540\n",
            "           1       0.96      0.97      0.96       706\n",
            "\n",
            "    accuracy                           0.96      1246\n",
            "   macro avg       0.96      0.96      0.96      1246\n",
            "weighted avg       0.96      0.96      0.96      1246\n",
            "\n"
          ]
        }
      ]
    },
    {
      "cell_type": "code",
      "source": [
        "from sklearn.metrics import confusion_matrix,accuracy_score\n",
        "cf_matrix = confusion_matrix(test_gen.classes, y_pred)\n",
        "import seaborn as sns\n",
        "plt.figure(figsize=(8,5))\n",
        "heatmap = sns.heatmap(cf_matrix, annot=True, fmt='d', color='blue')\n",
        "plt.xlabel('Predicted class')\n",
        "plt.ylabel('True class')\n",
        "plt.title('Confusion matrix of model')"
      ],
      "metadata": {
        "colab": {
          "base_uri": "https://localhost:8080/",
          "height": 504
        },
        "id": "f1KJl8Sat9Uh",
        "outputId": "ecc75161-27f9-4b74-f656-7b0e3d34e0cc"
      },
      "execution_count": null,
      "outputs": [
        {
          "output_type": "execute_result",
          "data": {
            "text/plain": [
              "Text(0.5, 1.0, 'Confusion matrix of model')"
            ]
          },
          "metadata": {},
          "execution_count": 41
        },
        {
          "output_type": "display_data",
          "data": {
            "text/plain": [
              "<Figure size 800x500 with 2 Axes>"
            ],
            "image/png": "[encoded data removed]"
          },
          "metadata": {}
        }
      ]
    },
    {
      "cell_type": "code",
      "source": [
        "accuracy_score(test_gen.classes, y_pred)"
      ],
      "metadata": {
        "colab": {
          "base_uri": "https://localhost:8080/"
        },
        "id": "9dThJOtxt9Oz",
        "outputId": "c4214d00-4ea0-4f8c-b0c8-817916b3ab3c"
      },
      "execution_count": null,
      "outputs": [
        {
          "output_type": "execute_result",
          "data": {
            "text/plain": [
              "0.9574638844301766"
            ]
          },
          "metadata": {},
          "execution_count": 42
        }
      ]
    },
    {
      "cell_type": "code",
      "source": [],
      "metadata": {
        "id": "fXBPf42IwoDf"
      },
      "execution_count": null,
      "outputs": []
    }
  ]
}